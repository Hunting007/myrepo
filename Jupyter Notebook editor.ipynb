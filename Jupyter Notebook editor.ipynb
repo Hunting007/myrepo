{
    "cells": [
        {
            "cell_type": "markdown",
            "metadata": {
                "collapsed": true
            },
            "source": "# My Jupyter Notebook on IBM Watson Studio"
        },
        {
            "cell_type": "markdown",
            "metadata": {},
            "source": "**Ogbuanu Ikenna**\n\nIoT Telematics Specialist"
        },
        {
            "cell_type": "markdown",
            "metadata": {},
            "source": "***I am interested in data science because of my profession, which deals with a lot of data receiveed from multiple connected sensors on machines.***"
        },
        {
            "cell_type": "markdown",
            "metadata": {},
            "source": "### Multiplication and Addition combined\nThis is the addition of two multiplication functions."
        },
        {
            "cell_type": "code",
            "execution_count": 4,
            "metadata": {},
            "outputs": [
                {
                    "data": {
                        "text/plain": "96"
                    },
                    "execution_count": 4,
                    "metadata": {},
                    "output_type": "execute_result"
                }
            ],
            "source": "(9*8) + (4*6)"
        },
        {
            "cell_type": "markdown",
            "metadata": {},
            "source": "# This cell must include unordered and ordered lists, tables, hyperlinks and image\n\n* mango\n* orange\n* banana\n* apple\n\n1. Mango\n2. Orange\n3. Banana\n4. Apple\n\n\n|***s/n*** | Fruit|\n|----|------|\n|1.|Mango|\n|2.|Orange|\n|3.|Banana|\n|4.|Apple|"
        },
        {
            "cell_type": "markdown",
            "metadata": {},
            "source": "### This is the hyperlink for Python tutorial from w3 schools\n\n[w3-python](https://www.w3schools.com/python/python_numbers.asp)"
        },
        {
            "cell_type": "markdown",
            "metadata": {},
            "source": "### Image posting via URL\n\nChat GPT LOGO: ![CHATGPT](data:image/png;base64,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)"
        },
        {
            "cell_type": "code",
            "execution_count": null,
            "metadata": {},
            "outputs": [],
            "source": ""
        }
    ],
    "metadata": {
        "kernelspec": {
            "display_name": "Python 3.10",
            "language": "python",
            "name": "python3"
        },
        "language_info": {
            "codemirror_mode": {
                "name": "ipython",
                "version": 3
            },
            "file_extension": ".py",
            "mimetype": "text/x-python",
            "name": "python",
            "nbconvert_exporter": "python",
            "pygments_lexer": "ipython3",
            "version": "3.10.9"
        }
    },
    "nbformat": 4,
    "nbformat_minor": 1
}