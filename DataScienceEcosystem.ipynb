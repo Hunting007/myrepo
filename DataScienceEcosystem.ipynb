{
 "cells": [
  {
   "cell_type": "markdown",
   "id": "94f7344f",
   "metadata": {},
   "source": [
    "# Data Science Tools and Ecosystem"
   ]
  },
  {
   "cell_type": "markdown",
   "id": "aa1f1402",
   "metadata": {},
   "source": [
    "In this notebook, Data Science Tools and Ecosystem are summarized."
   ]
  },
  {
   "cell_type": "markdown",
   "id": "0ad50d56",
   "metadata": {},
   "source": [
    "**Objectives:**\n",
    "* List popular languages for Data Science\n",
    "* List the open-source data management tools. \n",
    "* List the open-source data integration and transformation tools. \n",
    "* List the data visualization tools. \n",
    "* List the model tools for building, deployment, monitoring, and assessment, and \n",
    "* List tools for code and data asset management.\n"
   ]
  },
  {
   "cell_type": "markdown",
   "id": "d3ab4560",
   "metadata": {},
   "source": [
    "Some of the popular languages that data scientist use are:\n",
    "1. Anaconda\n",
    "2. Javascript\n",
    "3. C++\n",
    "4. Python"
   ]
  },
  {
   "cell_type": "markdown",
   "id": "9021e0ff",
   "metadata": {},
   "source": [
    "Some of the commonly used libraries used by Data Scientists include:\n",
    "\n",
    "1. Panda\n",
    "2. Numpy\n",
    "3. Matplotlib\n",
    "4. Seaborn\n",
    "5. Scikit-Learn\n",
    "6. Keras"
   ]
  },
  {
   "cell_type": "markdown",
   "id": "4779a4a0",
   "metadata": {},
   "source": [
    "Data Science Tools|\n",
    "---------------------------\n",
    "Jupyter|\n",
    "Apache Spark|\n",
    "RStudio|\n"
   ]
  },
  {
   "cell_type": "markdown",
   "id": "23fa28cf",
   "metadata": {},
   "source": [
    "### Below are a few examples of evaluating arithmetic expressions in Python"
   ]
  },
  {
   "cell_type": "code",
   "execution_count": 6,
   "id": "6944d06c",
   "metadata": {},
   "outputs": [
    {
     "data": {
      "text/plain": [
       "17"
      ]
     },
     "execution_count": 6,
     "metadata": {},
     "output_type": "execute_result"
    }
   ],
   "source": [
    "# This a simple arithmetic expression to mutiply then add integers\n",
    "\n",
    "(3*4)+5\n",
    "\n"
   ]
  },
  {
   "cell_type": "code",
   "execution_count": 14,
   "id": "01fcb686",
   "metadata": {},
   "outputs": [
    {
     "name": "stdout",
     "output_type": "stream",
     "text": [
      "3.3333333333333335\n"
     ]
    }
   ],
   "source": [
    "# This will convert 200 minutes to hours by diving by 60\n",
    "\n",
    "y=(200/60)\n",
    "print (y)\n"
   ]
  },
  {
   "cell_type": "markdown",
   "id": "69c9ac73",
   "metadata": {},
   "source": [
    "## Author\n",
    "\n",
    "Ogbuanu Ikenna"
   ]
  }
 ],
 "metadata": {
  "kernelspec": {
   "display_name": "Python 3 (ipykernel)",
   "language": "python",
   "name": "python3"
  },
  "language_info": {
   "codemirror_mode": {
    "name": "ipython",
    "version": 3
   },
   "file_extension": ".py",
   "mimetype": "text/x-python",
   "name": "python",
   "nbconvert_exporter": "python",
   "pygments_lexer": "ipython3",
   "version": "3.10.12"
  }
 },
 "nbformat": 4,
 "nbformat_minor": 5
}
